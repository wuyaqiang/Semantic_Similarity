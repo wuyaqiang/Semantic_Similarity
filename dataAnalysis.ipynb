{
 "cells": [
  {
   "cell_type": "code",
   "execution_count": 4,
   "metadata": {},
   "outputs": [],
   "source": [
    "import numpy as np\n",
    "import pandas as pd\n",
    "import matplotlib.pyplot as plt\n",
    "import seaborn as sns\n",
    "%matplotlib inline"
   ]
  },
  {
   "cell_type": "code",
   "execution_count": 11,
   "metadata": {},
   "outputs": [],
   "source": [
    "train1 = pd.read_csv('./data/atec_nlp_sim_train_add.csv', sep='\\t', header=None, encoding='utf-8')\n",
    "train1.columns = ['id', 'question1', 'question2', 'is_duplicate']\n",
    "train2 = pd.read_csv('./data/atec_nlp_sim_train.csv', sep='\\t', header=None, encoding='utf-8')\n",
    "train2.columns = ['id', 'question1', 'question2', 'is_duplicate']\n",
    "train = train1.append(train2)"
   ]
  },
  {
   "cell_type": "code",
   "execution_count": 12,
   "metadata": {},
   "outputs": [
    {
     "data": {
      "text/html": [
       "<div>\n",
       "<style scoped>\n",
       "    .dataframe tbody tr th:only-of-type {\n",
       "        vertical-align: middle;\n",
       "    }\n",
       "\n",
       "    .dataframe tbody tr th {\n",
       "        vertical-align: top;\n",
       "    }\n",
       "\n",
       "    .dataframe thead th {\n",
       "        text-align: right;\n",
       "    }\n",
       "</style>\n",
       "<table border=\"1\" class=\"dataframe\">\n",
       "  <thead>\n",
       "    <tr style=\"text-align: right;\">\n",
       "      <th></th>\n",
       "      <th>id</th>\n",
       "      <th>question1</th>\n",
       "      <th>question2</th>\n",
       "      <th>is_duplicate</th>\n",
       "    </tr>\n",
       "  </thead>\n",
       "  <tbody>\n",
       "    <tr>\n",
       "      <th>0</th>\n",
       "      <td>1</td>\n",
       "      <td>为何我无法申请开通花呗信用卡收款</td>\n",
       "      <td>支付宝开通信用卡花呗收款不符合条件怎么回事</td>\n",
       "      <td>1</td>\n",
       "    </tr>\n",
       "    <tr>\n",
       "      <th>1</th>\n",
       "      <td>2</td>\n",
       "      <td>花呗分期付款会影响使用吗</td>\n",
       "      <td>花呗分期有什么影响吗</td>\n",
       "      <td>0</td>\n",
       "    </tr>\n",
       "    <tr>\n",
       "      <th>2</th>\n",
       "      <td>3</td>\n",
       "      <td>为什么我花呗没有临时额度</td>\n",
       "      <td>花呗没有临时额度怎么可以负</td>\n",
       "      <td>0</td>\n",
       "    </tr>\n",
       "    <tr>\n",
       "      <th>3</th>\n",
       "      <td>4</td>\n",
       "      <td>能不能开花呗老兄</td>\n",
       "      <td>花呗逾期了还能开通</td>\n",
       "      <td>0</td>\n",
       "    </tr>\n",
       "    <tr>\n",
       "      <th>4</th>\n",
       "      <td>5</td>\n",
       "      <td>我的怎么开通花呗收钱</td>\n",
       "      <td>这个花呗是个什么啥？我没开通 我怎么有账单</td>\n",
       "      <td>0</td>\n",
       "    </tr>\n",
       "  </tbody>\n",
       "</table>\n",
       "</div>"
      ],
      "text/plain": [
       "   id         question1              question2  is_duplicate\n",
       "0   1  为何我无法申请开通花呗信用卡收款  支付宝开通信用卡花呗收款不符合条件怎么回事             1\n",
       "1   2      花呗分期付款会影响使用吗             花呗分期有什么影响吗             0\n",
       "2   3      为什么我花呗没有临时额度          花呗没有临时额度怎么可以负             0\n",
       "3   4          能不能开花呗老兄              花呗逾期了还能开通             0\n",
       "4   5        我的怎么开通花呗收钱  这个花呗是个什么啥？我没开通 我怎么有账单             0"
      ]
     },
     "execution_count": 12,
     "metadata": {},
     "output_type": "execute_result"
    }
   ],
   "source": [
    "train.head(5)"
   ]
  },
  {
   "cell_type": "code",
   "execution_count": 8,
   "metadata": {},
   "outputs": [
    {
     "name": "stdout",
     "output_type": "stream",
     "text": [
      "正例个数： 18685\n",
      "负例个数： 83792\n",
      "正例所占比例： 0.1823335968070884\n",
      "负例所占比例： 0.8176664031929116\n"
     ]
    },
    {
     "data": {
      "text/plain": [
       "<matplotlib.axes._subplots.AxesSubplot at 0x7f2cd57d1438>"
      ]
     },
     "execution_count": 8,
     "metadata": {},
     "output_type": "execute_result"
    },
    {
     "data": {
      "image/png": "[encoded data removed]",
      "text/plain": [
       "<Figure size 432x288 with 1 Axes>"
      ]
     },
     "metadata": {},
     "output_type": "display_data"
    }
   ],
   "source": [
    "labels = train['is_duplicate'].values\n",
    "nums_1 = len(train[labels == 1])\n",
    "nums_0 = len(train[labels == 0])\n",
    "print('正例个数：', nums_1)\n",
    "print('负例个数：', nums_0)\n",
    "print('正例所占比例：', nums_1 / (nums_0 + nums_1))\n",
    "print('负例所占比例：', nums_0 / (nums_0 + nums_1))\n",
    "train.groupby(\"is_duplicate\")['id'].count().plot.bar()    # 正负样例分布图"
   ]
  },
  {
   "cell_type": "code",
   "execution_count": 8,
   "metadata": {},
   "outputs": [
    {
     "name": "stderr",
     "output_type": "stream",
     "text": [
      "Building prefix dict from the default dictionary ...\n",
      "Dumping model to file cache /tmp/jieba.cache\n",
      "Loading model cost 0.689 seconds.\n",
      "Prefix dict has been built succesfully.\n"
     ]
    }
   ],
   "source": [
    "import jieba\n",
    "jieba.load_userdict('./data/jieba_dict')\n",
    "def jiebaCut(sentence):\n",
    "    seg_sent = jieba.cut(sentence, cut_all=False)\n",
    "    sent = [word for word in seg_sent]\n",
    "    return sent"
   ]
  },
  {
   "cell_type": "code",
   "execution_count": 9,
   "metadata": {},
   "outputs": [],
   "source": [
    "def wordCut(sentence):\n",
    "    # 将句子分成单个字\n",
    "    return [word for word in sentence]"
   ]
  },
  {
   "cell_type": "code",
   "execution_count": 10,
   "metadata": {},
   "outputs": [],
   "source": [
    "# 特征一：\n",
    "# 计算（s1的字同时在s2中也出现和s2的字同时在s1中也出现）的比例\n",
    "def shared_word_proportion(row):\n",
    "    q1words = {}\n",
    "    q2words = {}\n",
    "    for word in wordCut(row['question1']):\n",
    "        q1words[word] = 1\n",
    "    for word in wordCut(row['question2']):\n",
    "        q2words[word] = 1\n",
    "    if len(q1words) == 0 or len(q2words) == 0:\n",
    "        # The computer-generated chaff includes a few questions that are nothing but stopwords\n",
    "        return 0\n",
    "    shared_words_in_q1 = [w for w in q1words.keys() if w in q2words]\n",
    "    shared_words_in_q2 = [w for w in q2words.keys() if w in q1words]\n",
    "    R = (len(shared_words_in_q1) + len(shared_words_in_q2))/(len(q1words) + len(q2words))\n",
    "    return R"
   ]
  },
  {
   "cell_type": "code",
   "execution_count": 11,
   "metadata": {},
   "outputs": [
    {
     "name": "stderr",
     "output_type": "stream",
     "text": [
      "/usr/local/lib/python3.5/dist-packages/matplotlib/axes/_axes.py:6462: UserWarning: The 'normed' kwarg is deprecated, and has been replaced by the 'density' kwarg.\n",
      "  warnings.warn(\"The 'normed' kwarg is deprecated, and has been \"\n"
     ]
    },
    {
     "data": {
      "text/plain": [
       "Text(0.5,0,'shared word proportion')"
      ]
     },
     "execution_count": 11,
     "metadata": {},
     "output_type": "execute_result"
    },
    {
     "data": {
      "image/png": "[encoded data removed]",
      "text/plain": [
       "<Figure size 1080x360 with 1 Axes>"
      ]
     },
     "metadata": {},
     "output_type": "display_data"
    }
   ],
   "source": [
    "plt.figure(figsize=(15, 5))\n",
    "shared_word_match = train.apply(shared_word_proportion, axis=1, raw=True)\n",
    "plt.hist(shared_word_match[train['is_duplicate'] == 0], bins=20, normed=True, label='similar')\n",
    "plt.hist(shared_word_match[train['is_duplicate'] == 1], bins=20, normed=True, alpha=0.7, label='not similar')\n",
    "plt.legend()\n",
    "plt.title('Label distribution over shared_word proportion', fontsize=15)\n",
    "plt.xlabel('shared word proportion', fontsize=15)"
   ]
  },
  {
   "cell_type": "code",
   "execution_count": 12,
   "metadata": {
    "collapsed": false
   },
   "outputs": [
    {
     "name": "stdout",
     "output_type": "stream",
     "text": [
      "102477\n",
      "204954\n"
     ]
    }
   ],
   "source": [
    "# 将所有文本连到一起\n",
    "train_qs = pd.Series(train['question1'].tolist() + train['question2'].tolist()).astype(str)\n",
    "print(len(train))\n",
    "print(len(train_qs))"
   ]
  },
  {
   "cell_type": "code",
   "execution_count": 13,
   "metadata": {},
   "outputs": [],
   "source": [
    "# 特征二： TF/IDF\n",
    "from collections import Counter\n",
    "\n",
    "# If a word appears only once, we ignore it completely (likely a typo)\n",
    "# Epsilon defines a smoothing constant, which makes the effect of extremely rare words smaller\n",
    "def get_weight(count, eps=10000, min_count=2):\n",
    "    if count < min_count:\n",
    "        return 0\n",
    "    else:\n",
    "        return 1 / (count + eps)\n",
    "\n",
    "eps = 5000 \n",
    "words = wordCut(\"\".join(train_qs))\n",
    "counts = Counter(words)\n",
    "weights = {word: get_weight(count) for word, count in counts.items()}"
   ]
  },
  {
   "cell_type": "code",
   "execution_count": 14,
   "metadata": {},
   "outputs": [
    {
     "name": "stdout",
     "output_type": "stream",
     "text": [
      "Most common words and weights: \n",
      "\n",
      "[('呗', 4.523597345553078e-06), ('花', 6.210215804999224e-06), ('么', 1.0714897994171096e-05), ('还', 1.110494169905608e-05), ('借', 1.252740369558409e-05), ('我', 1.2980943974245807e-05), ('款', 1.383087604768886e-05), ('的', 1.4063115261292682e-05), ('了', 1.4994976682811259e-05), ('用', 1.595277977187525e-05)]\n",
      "\n",
      "Least common words and weights: \n"
     ]
    },
    {
     "data": {
      "text/plain": [
       "[('貸', 9.998000399920016e-05),\n",
       " ('囗', 9.998000399920016e-05),\n",
       " ('宵', 9.998000399920016e-05),\n",
       " ('兄', 9.998000399920016e-05),\n",
       " ('牛', 9.998000399920016e-05),\n",
       " ('恼', 9.998000399920016e-05),\n",
       " ('擅', 9.998000399920016e-05),\n",
       " ('诺', 9.998000399920016e-05),\n",
       " ('伦', 9.998000399920016e-05),\n",
       " ('映', 9.998000399920016e-05)]"
      ]
     },
     "execution_count": 14,
     "metadata": {},
     "output_type": "execute_result"
    }
   ],
   "source": [
    "print('Most common words and weights: \\n')\n",
    "print(sorted(weights.items(), key=lambda x: x[1] if x[1] > 0 else 9999)[:10])\n",
    "print('\\nLeast common words and weights: ')\n",
    "(sorted(weights.items(), key=lambda x: x[1], reverse=True)[:10])"
   ]
  },
  {
   "cell_type": "code",
   "execution_count": 15,
   "metadata": {},
   "outputs": [],
   "source": [
    "def shared_word_tfidf(row):\n",
    "    q1words = {}\n",
    "    q2words = {}\n",
    "    for word in wordCut(row['question1']):\n",
    "        q1words[word] = 1\n",
    "    for word in wordCut(row['question2']):\n",
    "        q2words[word] = 1\n",
    "    if len(q1words) == 0 or len(q2words) == 0:\n",
    "        # The computer-generated chaff includes a few questions that are nothing but stopwords\n",
    "        return 0\n",
    "    \n",
    "    shared_weights = [weights.get(w, 0) for w in q1words.keys() if w in q2words] + [weights.get(w, 0) for w in q2words.keys() if w in q1words]\n",
    "    total_weights = [weights.get(w, 0) for w in q1words] + [weights.get(w, 0) for w in q2words]\n",
    "    \n",
    "    R = np.sum(shared_weights) / np.sum(total_weights)\n",
    "    return R"
   ]
  },
  {
   "cell_type": "code",
   "execution_count": 16,
   "metadata": {},
   "outputs": [
    {
     "name": "stderr",
     "output_type": "stream",
     "text": [
      "/usr/local/lib/python3.5/dist-packages/matplotlib/axes/_axes.py:6462: UserWarning: The 'normed' kwarg is deprecated, and has been replaced by the 'density' kwarg.\n",
      "  warnings.warn(\"The 'normed' kwarg is deprecated, and has been \"\n"
     ]
    },
    {
     "data": {
      "text/plain": [
       "Text(0.5,0,'shared word TF/IDF')"
      ]
     },
     "execution_count": 16,
     "metadata": {},
     "output_type": "execute_result"
    },
    {
     "data": {
      "image/png": "[encoded data removed]",
      "text/plain": [
       "<Figure size 1080x360 with 1 Axes>"
      ]
     },
     "metadata": {},
     "output_type": "display_data"
    }
   ],
   "source": [
    "plt.figure(figsize=(15, 5))\n",
    "tfidf_shared_word_match = train.apply(shared_word_tfidf, axis=1, raw=True)\n",
    "plt.hist(tfidf_shared_word_match[train['is_duplicate'] == 0].fillna(0), bins=20, normed=True, label='Similar')\n",
    "plt.hist(tfidf_shared_word_match[train['is_duplicate'] == 1].fillna(0), bins=20, normed=True, alpha=0.7, label='Not Similar')\n",
    "plt.legend()\n",
    "plt.title('Label distribution over shared_word tf_idf', fontsize=15)\n",
    "plt.xlabel('shared word TF/IDF', fontsize=15)"
   ]
  },
  {
   "cell_type": "code",
   "execution_count": 17,
   "metadata": {},
   "outputs": [
    {
     "name": "stdout",
     "output_type": "stream",
     "text": [
      "Original AUC: 0.6997996619328649\n",
      "   TFIDF AUC: 0.6998653645284174\n"
     ]
    }
   ],
   "source": [
    "# The AUC metric is unaffected by scaling and similar, so it is a good metric for testing the predictive power of individual features.\n",
    "from sklearn.metrics import roc_auc_score\n",
    "print('Original AUC:', roc_auc_score(train['is_duplicate'], shared_word_match))\n",
    "print('   TFIDF AUC:', roc_auc_score(train['is_duplicate'], tfidf_shared_word_match.fillna(0)))"
   ]
  },
  {
   "cell_type": "code",
   "execution_count": 18,
   "metadata": {},
   "outputs": [],
   "source": [
    "# 特征三：两个句子长度差值（效果不好）\n",
    "def length_dif(row):\n",
    "    len_s1 = len(wordCut(row['question1']))\n",
    "    len_s2 = len(wordCut(row['question2']))\n",
    "    len_dif = abs(len_s1 - len_s2)\n",
    "    return len_dif"
   ]
  },
  {
   "cell_type": "code",
   "execution_count": 19,
   "metadata": {},
   "outputs": [
    {
     "name": "stderr",
     "output_type": "stream",
     "text": [
      "/usr/local/lib/python3.5/dist-packages/matplotlib/axes/_axes.py:6462: UserWarning: The 'normed' kwarg is deprecated, and has been replaced by the 'density' kwarg.\n",
      "  warnings.warn(\"The 'normed' kwarg is deprecated, and has been \"\n"
     ]
    },
    {
     "data": {
      "text/plain": [
       "Text(0.5,0,'length difference')"
      ]
     },
     "execution_count": 19,
     "metadata": {},
     "output_type": "execute_result"
    },
    {
     "data": {
      "image/png": "[encoded data removed]",
      "text/plain": [
       "<Figure size 1080x360 with 1 Axes>"
      ]
     },
     "metadata": {},
     "output_type": "display_data"
    }
   ],
   "source": [
    "plt.figure(figsize=(15, 5))\n",
    "length_dif_match = train.apply(length_dif, axis=1, raw=True)\n",
    "plt.hist(length_dif_match[train['is_duplicate'] == 0].fillna(0), bins=20, normed=True, label='Similar')\n",
    "plt.hist(length_dif_match[train['is_duplicate'] == 1].fillna(0), bins=20, normed=True, alpha=0.7, label='Not Similar')\n",
    "plt.legend()\n",
    "plt.title('Label distribution over length difference', fontsize=15)\n",
    "plt.xlabel('length difference', fontsize=15)"
   ]
  },
  {
   "cell_type": "code",
   "execution_count": 20,
   "metadata": {},
   "outputs": [],
   "source": [
    "# 特征三： jaccard系数\n",
    "def jaccard_similarity(row):\n",
    "    s1 = wordCut(row['question1'])\n",
    "    s2 = wordCut(row['question2'])\n",
    "    intersection = set(s1).intersection(set(s2))\n",
    "    union = set(s1).union(set(s2))\n",
    "    return len(intersection)/len(union)"
   ]
  },
  {
   "cell_type": "code",
   "execution_count": 21,
   "metadata": {},
   "outputs": [
    {
     "name": "stderr",
     "output_type": "stream",
     "text": [
      "/usr/local/lib/python3.5/dist-packages/matplotlib/axes/_axes.py:6462: UserWarning: The 'normed' kwarg is deprecated, and has been replaced by the 'density' kwarg.\n",
      "  warnings.warn(\"The 'normed' kwarg is deprecated, and has been \"\n"
     ]
    },
    {
     "data": {
      "text/plain": [
       "Text(0.5,0,'jaccard coefficient')"
      ]
     },
     "execution_count": 21,
     "metadata": {},
     "output_type": "execute_result"
    },
    {
     "data": {
      "image/png": "[encoded data removed]",
      "text/plain": [
       "<Figure size 1080x360 with 1 Axes>"
      ]
     },
     "metadata": {},
     "output_type": "display_data"
    }
   ],
   "source": [
    "plt.figure(figsize=(15, 5))\n",
    "jaccard_similarity_match = train.apply(jaccard_similarity, axis=1, raw=True)\n",
    "plt.hist(jaccard_similarity_match[train['is_duplicate'] == 0].fillna(0), bins=20, normed=True, label='Similar')\n",
    "plt.hist(jaccard_similarity_match[train['is_duplicate'] == 1].fillna(0), bins=20, normed=True, alpha=0.7, label='Not Similar')\n",
    "plt.legend()\n",
    "plt.title('Label distribution over jaccard similarity', fontsize=15)\n",
    "plt.xlabel('jaccard coefficient', fontsize=15)"
   ]
  },
  {
   "cell_type": "code",
   "execution_count": 29,
   "metadata": {},
   "outputs": [],
   "source": [
    "from sklearn.model_selection import train_test_split\n",
    "import xgboost as xgb"
   ]
  },
  {
   "cell_type": "code",
   "execution_count": 30,
   "metadata": {},
   "outputs": [],
   "source": [
    "x_train = pd.DataFrame()\n",
    "x_train['shared_word_match'] = shared_word_match\n",
    "x_train['tfidf_shared_word_match'] = tfidf_shared_word_match\n",
    "x_train['jaccard_similarity_match'] = jaccard_similarity_match\n",
    "y_train = train['is_duplicate'].values"
   ]
  },
  {
   "cell_type": "code",
   "execution_count": 31,
   "metadata": {},
   "outputs": [
    {
     "data": {
      "text/plain": [
       "102477"
      ]
     },
     "execution_count": 31,
     "metadata": {},
     "output_type": "execute_result"
    }
   ],
   "source": [
    "len(x_train)"
   ]
  },
  {
   "cell_type": "code",
   "execution_count": 32,
   "metadata": {},
   "outputs": [],
   "source": [
    "x_train, x_valid, y_train, y_valid = train_test_split(x_train, y_train, test_size=0.1, train_size=0.9, random_state=4242)"
   ]
  },
  {
   "cell_type": "code",
   "execution_count": 33,
   "metadata": {},
   "outputs": [
    {
     "name": "stdout",
     "output_type": "stream",
     "text": [
      "92229\n",
      "10248\n"
     ]
    }
   ],
   "source": [
    "print(len(x_train))\n",
    "print(len(x_valid))"
   ]
  },
  {
   "cell_type": "code",
   "execution_count": 35,
   "metadata": {},
   "outputs": [
    {
     "name": "stdout",
     "output_type": "stream",
     "text": [
      "[0]\ttrain-logloss:0.683906\tvalid-logloss:0.684036\n",
      "Multiple eval metrics have been passed: 'valid-logloss' will be used for early stopping.\n",
      "\n",
      "Will train until valid-logloss hasn't improved in 50 rounds.\n",
      "[10]\ttrain-logloss:0.608851\tvalid-logloss:0.610137\n",
      "[20]\ttrain-logloss:0.556862\tvalid-logloss:0.559112\n",
      "[30]\ttrain-logloss:0.519989\tvalid-logloss:0.523146\n",
      "[40]\ttrain-logloss:0.493556\tvalid-logloss:0.497464\n",
      "[50]\ttrain-logloss:0.474481\tvalid-logloss:0.479035\n",
      "[60]\ttrain-logloss:0.460661\tvalid-logloss:0.465704\n",
      "[70]\ttrain-logloss:0.450644\tvalid-logloss:0.456122\n",
      "[80]\ttrain-logloss:0.443381\tvalid-logloss:0.449253\n",
      "[90]\ttrain-logloss:0.438125\tvalid-logloss:0.444293\n",
      "[100]\ttrain-logloss:0.43433\tvalid-logloss:0.440793\n",
      "[110]\ttrain-logloss:0.431579\tvalid-logloss:0.438314\n",
      "[120]\ttrain-logloss:0.429602\tvalid-logloss:0.436568\n",
      "[130]\ttrain-logloss:0.428171\tvalid-logloss:0.435394\n",
      "[140]\ttrain-logloss:0.427129\tvalid-logloss:0.434522\n",
      "[150]\ttrain-logloss:0.426356\tvalid-logloss:0.433937\n",
      "[160]\ttrain-logloss:0.425781\tvalid-logloss:0.433519\n",
      "[170]\ttrain-logloss:0.42535\tvalid-logloss:0.433239\n",
      "[180]\ttrain-logloss:0.425026\tvalid-logloss:0.433045\n",
      "[190]\ttrain-logloss:0.424757\tvalid-logloss:0.432863\n",
      "[200]\ttrain-logloss:0.424536\tvalid-logloss:0.432723\n",
      "[210]\ttrain-logloss:0.424343\tvalid-logloss:0.432618\n",
      "[220]\ttrain-logloss:0.42419\tvalid-logloss:0.432567\n",
      "[230]\ttrain-logloss:0.424053\tvalid-logloss:0.432555\n",
      "[240]\ttrain-logloss:0.423943\tvalid-logloss:0.432529\n",
      "[250]\ttrain-logloss:0.423843\tvalid-logloss:0.432513\n",
      "[260]\ttrain-logloss:0.423749\tvalid-logloss:0.432501\n",
      "[270]\ttrain-logloss:0.423652\tvalid-logloss:0.432492\n",
      "[280]\ttrain-logloss:0.423565\tvalid-logloss:0.432486\n",
      "[290]\ttrain-logloss:0.423483\tvalid-logloss:0.432487\n",
      "[300]\ttrain-logloss:0.423403\tvalid-logloss:0.432504\n",
      "[310]\ttrain-logloss:0.423337\tvalid-logloss:0.432495\n",
      "[320]\ttrain-logloss:0.423276\tvalid-logloss:0.432485\n",
      "Stopping. Best iteration:\n",
      "[276]\ttrain-logloss:0.423602\tvalid-logloss:0.432474\n",
      "\n"
     ]
    }
   ],
   "source": [
    "params = {}\n",
    "params['objective'] = 'binary:logistic'\n",
    "params['eval_metric'] = 'logloss'\n",
    "params['eta'] = 0.02\n",
    "params['max_depth'] = 4\n",
    "\n",
    "d_train = xgb.DMatrix(x_train, label=y_train)\n",
    "d_valid = xgb.DMatrix(x_valid, label=y_valid)\n",
    "\n",
    "watchlist = [(d_train, 'train'), (d_valid, 'valid')]\n",
    "\n",
    "bst = xgb.train(params, d_train, 400, watchlist, early_stopping_rounds=50, verbose_eval=10)"
   ]
  },
  {
   "cell_type": "code",
   "execution_count": null,
   "metadata": {},
   "outputs": [],
   "source": [
    "# 特征四： 将上面三个特征中的字换成对应的拼音或词性，然后用拼音或词性计算得到相同的特征\n",
    "# 注： 用停用词表去掉“蚂蚁”二字，jieba的userdict中标注上对应词性"
   ]
  },
  {
   "cell_type": "code",
   "execution_count": 196,
   "metadata": {},
   "outputs": [
    {
     "ename": "AttributeError",
     "evalue": "'numpy.ndarray' object has no attribute 'feature_names'",
     "traceback": [
      "\u001b[0;31m---------------------------------------------------------------------------\u001b[0m",
      "\u001b[0;31mAttributeError\u001b[0m                            Traceback (most recent call last)",
      "\u001b[0;32m<ipython-input-196-5249d7e8f50c>\u001b[0m in \u001b[0;36m<module>\u001b[0;34m()\u001b[0m\n\u001b[0;32m----> 1\u001b[0;31m \u001b[0mpredict\u001b[0m \u001b[0;34m=\u001b[0m \u001b[0mbst\u001b[0m\u001b[0;34m.\u001b[0m\u001b[0mpredict\u001b[0m\u001b[0;34m(\u001b[0m\u001b[0mx_valid\u001b[0m\u001b[0;34m.\u001b[0m\u001b[0mvalues\u001b[0m\u001b[0;34m)\u001b[0m\u001b[0;34m\u001b[0m\u001b[0m\n\u001b[0m",
      "\u001b[0;32m/usr/local/lib/python3.5/dist-packages/xgboost/core.py\u001b[0m in \u001b[0;36mpredict\u001b[0;34m(self, data, output_margin, ntree_limit, pred_leaf, pred_contribs, approx_contribs, pred_interactions)\u001b[0m\n\u001b[1;32m   1048\u001b[0m             \u001b[0moption_mask\u001b[0m \u001b[0;34m|=\u001b[0m \u001b[0;36m0x10\u001b[0m\u001b[0;34m\u001b[0m\u001b[0m\n\u001b[1;32m   1049\u001b[0m \u001b[0;34m\u001b[0m\u001b[0m\n\u001b[0;32m-> 1050\u001b[0;31m         \u001b[0mself\u001b[0m\u001b[0;34m.\u001b[0m\u001b[0m_validate_features\u001b[0m\u001b[0;34m(\u001b[0m\u001b[0mdata\u001b[0m\u001b[0;34m)\u001b[0m\u001b[0;34m\u001b[0m\u001b[0m\n\u001b[0m\u001b[1;32m   1051\u001b[0m \u001b[0;34m\u001b[0m\u001b[0m\n\u001b[1;32m   1052\u001b[0m         \u001b[0mlength\u001b[0m \u001b[0;34m=\u001b[0m \u001b[0mc_bst_ulong\u001b[0m\u001b[0;34m(\u001b[0m\u001b[0;34m)\u001b[0m\u001b[0;34m\u001b[0m\u001b[0m\n",
      "\u001b[0;32m/usr/local/lib/python3.5/dist-packages/xgboost/core.py\u001b[0m in \u001b[0;36m_validate_features\u001b[0;34m(self, data)\u001b[0m\n\u001b[1;32m   1291\u001b[0m         \u001b[0;32melse\u001b[0m\u001b[0;34m:\u001b[0m\u001b[0;34m\u001b[0m\u001b[0m\n\u001b[1;32m   1292\u001b[0m             \u001b[0;31m# Booster can't accept data with different feature names\u001b[0m\u001b[0;34m\u001b[0m\u001b[0;34m\u001b[0m\u001b[0m\n\u001b[0;32m-> 1293\u001b[0;31m             \u001b[0;32mif\u001b[0m \u001b[0mself\u001b[0m\u001b[0;34m.\u001b[0m\u001b[0mfeature_names\u001b[0m \u001b[0;34m!=\u001b[0m \u001b[0mdata\u001b[0m\u001b[0;34m.\u001b[0m\u001b[0mfeature_names\u001b[0m\u001b[0;34m:\u001b[0m\u001b[0;34m\u001b[0m\u001b[0m\n\u001b[0m\u001b[1;32m   1294\u001b[0m                 \u001b[0mdat_missing\u001b[0m \u001b[0;34m=\u001b[0m \u001b[0mset\u001b[0m\u001b[0;34m(\u001b[0m\u001b[0mself\u001b[0m\u001b[0;34m.\u001b[0m\u001b[0mfeature_names\u001b[0m\u001b[0;34m)\u001b[0m \u001b[0;34m-\u001b[0m \u001b[0mset\u001b[0m\u001b[0;34m(\u001b[0m\u001b[0mdata\u001b[0m\u001b[0;34m.\u001b[0m\u001b[0mfeature_names\u001b[0m\u001b[0;34m)\u001b[0m\u001b[0;34m\u001b[0m\u001b[0m\n\u001b[1;32m   1295\u001b[0m                 \u001b[0mmy_missing\u001b[0m \u001b[0;34m=\u001b[0m \u001b[0mset\u001b[0m\u001b[0;34m(\u001b[0m\u001b[0mdata\u001b[0m\u001b[0;34m.\u001b[0m\u001b[0mfeature_names\u001b[0m\u001b[0;34m)\u001b[0m \u001b[0;34m-\u001b[0m \u001b[0mset\u001b[0m\u001b[0;34m(\u001b[0m\u001b[0mself\u001b[0m\u001b[0;34m.\u001b[0m\u001b[0mfeature_names\u001b[0m\u001b[0;34m)\u001b[0m\u001b[0;34m\u001b[0m\u001b[0m\n",
      "\u001b[0;31mAttributeError\u001b[0m: 'numpy.ndarray' object has no attribute 'feature_names'"
     ],
     "output_type": "error"
    }
   ],
   "source": [
    "predict = bst.predict(x_valid.values)"
   ]
  },
  {
   "cell_type": "code",
   "execution_count": null,
   "metadata": {},
   "outputs": [],
   "source": []
  },
  {
   "cell_type": "code",
   "execution_count": null,
   "metadata": {},
   "outputs": [],
   "source": []
  },
  {
   "cell_type": "code",
   "execution_count": null,
   "metadata": {},
   "outputs": [],
   "source": []
  },
  {
   "cell_type": "code",
   "execution_count": null,
   "metadata": {},
   "outputs": [],
   "source": []
  },
  {
   "cell_type": "code",
   "execution_count": null,
   "metadata": {},
   "outputs": [],
   "source": []
  }
 ],
 "metadata": {
  "kernelspec": {
   "display_name": "Python 3",
   "language": "python",
   "name": "python3"
  },
  "language_info": {
   "codemirror_mode": {
    "name": "ipython",
    "version": 3
   },
   "file_extension": ".py",
   "mimetype": "text/x-python",
   "name": "python",
   "nbconvert_exporter": "python",
   "pygments_lexer": "ipython3",
   "version": "3.5.2"
  }
 },
 "nbformat": 4,
 "nbformat_minor": 2
}
